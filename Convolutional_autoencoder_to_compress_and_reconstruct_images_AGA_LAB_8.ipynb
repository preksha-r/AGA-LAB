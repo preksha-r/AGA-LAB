{
  "nbformat": 4,
  "nbformat_minor": 0,
  "metadata": {
    "colab": {
      "provenance": []
    },
    "kernelspec": {
      "name": "python3",
      "display_name": "Python 3"
    },
    "language_info": {
      "name": "python"
    }
  },
  "cells": [
    {
      "cell_type": "markdown",
      "source": [
        "Implement a convolutional autoencoder to compress and reconstruct images.\n",
        "Train on CIFAR-10.\n",
        "Measure compression ratio and reconstruction quality."
      ],
      "metadata": {
        "id": "Ib2QWFDipuwx"
      }
    },
    {
      "cell_type": "code",
      "execution_count": 1,
      "metadata": {
        "colab": {
          "base_uri": "https://localhost:8080/",
          "height": 690
        },
        "id": "qA6EK3gnmzn5",
        "outputId": "2b0880a2-66bf-4fef-f1a2-5c7565133ce0"
      },
      "outputs": [
        {
          "output_type": "stream",
          "name": "stderr",
          "text": [
            "100%|██████████| 170M/170M [00:01<00:00, 91.9MB/s]\n"
          ]
        },
        {
          "output_type": "stream",
          "name": "stdout",
          "text": [
            "Epoch [1/20], Loss: 0.0130\n",
            "Epoch [2/20], Loss: 0.0082\n",
            "Epoch [3/20], Loss: 0.0070\n",
            "Epoch [4/20], Loss: 0.0055\n",
            "Epoch [5/20], Loss: 0.0048\n",
            "Epoch [6/20], Loss: 0.0041\n",
            "Epoch [7/20], Loss: 0.0040\n",
            "Epoch [8/20], Loss: 0.0042\n",
            "Epoch [9/20], Loss: 0.0040\n",
            "Epoch [10/20], Loss: 0.0034\n",
            "Epoch [11/20], Loss: 0.0035\n",
            "Epoch [12/20], Loss: 0.0032\n",
            "Epoch [13/20], Loss: 0.0041\n",
            "Epoch [14/20], Loss: 0.0029\n",
            "Epoch [15/20], Loss: 0.0026\n",
            "Epoch [16/20], Loss: 0.0025\n",
            "Epoch [17/20], Loss: 0.0028\n",
            "Epoch [18/20], Loss: 0.0026\n",
            "Epoch [19/20], Loss: 0.0025\n",
            "Epoch [20/20], Loss: 0.0024\n"
          ]
        },
        {
          "output_type": "display_data",
          "data": {
            "text/plain": [
              "<Figure size 640x480 with 2 Axes>"
            ],
            "image/png": "[encoded data removed]"
          },
          "metadata": {}
        },
        {
          "output_type": "stream",
          "name": "stdout",
          "text": [
            "Compression Ratio: 3.0\n"
          ]
        }
      ],
      "source": [
        "import torch\n",
        "import torch.nn as nn\n",
        "import torchvision\n",
        "import torchvision.transforms as transforms\n",
        "from torch.utils.data import DataLoader\n",
        "import matplotlib.pyplot as plt\n",
        "import numpy as np\n",
        "\n",
        "\n",
        "device = torch.device('cuda' if torch.cuda.is_available() else 'cpu')\n",
        "\n",
        "\n",
        "transform = transforms.Compose([transforms.ToTensor()])\n",
        "\n",
        "\n",
        "trainset = torchvision.datasets.CIFAR10(root='./data', train=True,\n",
        "                                        download=True, transform=transform)\n",
        "trainloader = DataLoader(trainset, batch_size=128, shuffle=True)\n",
        "\n",
        "\n",
        "class Autoencoder(nn.Module):\n",
        "    def __init__(self):\n",
        "        super(Autoencoder, self).__init__()\n",
        "\n",
        "        self.encoder = nn.Sequential(\n",
        "            nn.Conv2d(3, 16, 3, stride=2, padding=1),\n",
        "            nn.ReLU(),\n",
        "            nn.Conv2d(16, 32, 3, stride=2, padding=1),\n",
        "            nn.ReLU(),\n",
        "            nn.Conv2d(32, 64, 3, stride=2, padding=1),\n",
        "            nn.ReLU()\n",
        "        )\n",
        "\n",
        "        self.decoder = nn.Sequential(\n",
        "            nn.ConvTranspose2d(64, 32, 3, stride=2, padding=1, output_padding=1),\n",
        "            nn.ReLU(),\n",
        "            nn.ConvTranspose2d(32, 16, 3, stride=2, padding=1, output_padding=1),\n",
        "            nn.ReLU(),\n",
        "            nn.ConvTranspose2d(16, 3, 3, stride=2, padding=1, output_padding=1),\n",
        "            nn.Sigmoid()\n",
        "        )\n",
        "\n",
        "    def forward(self, x):\n",
        "        encoded = self.encoder(x)\n",
        "        decoded = self.decoder(encoded)\n",
        "        return decoded\n",
        "\n",
        "model = Autoencoder().to(device)\n",
        "criterion = nn.MSELoss()\n",
        "optimizer = torch.optim.Adam(model.parameters(), lr=1e-3)\n",
        "\n",
        "\n",
        "num_epochs = 20\n",
        "for epoch in range(num_epochs):\n",
        "    for data in trainloader:\n",
        "        imgs, _ = data\n",
        "        imgs = imgs.to(device)\n",
        "        outputs = model(imgs)\n",
        "        loss = criterion(outputs, imgs)\n",
        "\n",
        "        optimizer.zero_grad()\n",
        "        loss.backward()\n",
        "        optimizer.step()\n",
        "\n",
        "    print(f\"Epoch [{epoch+1}/{num_epochs}], Loss: {loss.item():.4f}\")\n",
        "\n",
        "\n",
        "def show_images(orig, recon):\n",
        "    fig, axs = plt.subplots(1, 2)\n",
        "    axs[0].imshow(np.transpose(orig.cpu().numpy(), (1, 2, 0)))\n",
        "    axs[0].set_title(\"Original\")\n",
        "    axs[1].imshow(np.transpose(recon.cpu().detach().numpy(), (1, 2, 0)))\n",
        "    axs[1].set_title(\"Reconstructed\")\n",
        "    plt.show()\n",
        "\n",
        "\n",
        "test_img, _ = trainset[0]\n",
        "test_tensor = test_img.unsqueeze(0).to(device)\n",
        "with torch.no_grad():\n",
        "    recon = model(test_tensor)\n",
        "\n",
        "show_images(test_img, recon[0])\n",
        "\n",
        "\n",
        "def calc_compression_ratio():\n",
        "    orig = 3 * 32 * 32\n",
        "    encoded = 64 * 4 * 4\n",
        "    return orig / encoded\n",
        "\n",
        "print(\"Compression Ratio:\", calc_compression_ratio())\n"
      ]
    }
  ]
}